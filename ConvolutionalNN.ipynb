{
 "cells": [
  {
   "cell_type": "code",
   "execution_count": 15,
   "id": "7d7efbed-b312-4edb-b701-f443064eb0a3",
   "metadata": {},
   "outputs": [],
   "source": [
    "from keras.models import Sequential\n",
    "from keras.layers import Convolution2D\n",
    "from keras.layers import MaxPooling2D\n",
    "from keras.layers import Flatten\n",
    "from keras.layers import Dense\n",
    "from keras.utils import timeseries_dataset_from_array"
   ]
  },
  {
   "cell_type": "code",
   "execution_count": 16,
   "id": "7b58f5d5-d843-42a7-b107-4fada3992dc9",
   "metadata": {},
   "outputs": [],
   "source": [
    "num_features = 6\n",
    "sequence_length = 24\n",
    "\n",
    "#Inicializamos la CNN\n",
    "classifier = Sequential()\n",
    "\n",
    "#Convolutional layer\n",
    "# 32 features detectors of 3x3 kernels\n",
    "classifier.add(Convolution2D(32,3,3,input_shape=(sequence_length,num_features,1), activation = 'relu' ))\n",
    "#Pooling\n",
    "classifier.add(MaxPooling2D(pool_size = (2,2)))\n",
    "#Flattening\n",
    "classifier.add(Flatten())\n",
    "#Fully connected layer\n",
    "#Hay que experimentar con el numero de nodos (puede que 128 vaya mejor)\n",
    "classifier.add(Dense(64,activation = 'relu'))\n",
    "#Para dos outputs distintos usamos sigmoid pero para mas de dos tendriamos que usar softmax\n",
    "classifier.add(Dense(1,activation = 'sigmoid'))\n",
    "\n",
    "#Compiling the CNN\n",
    "#Con mas de dos clases tendriamos que elegir categorical_crossentropy\n",
    "classifier.compile(optimizer = 'adam', loss = 'binary_crossentropy', metrics = ['accuracy'])\n",
    "\n",
    "#https://keras.io/api/data_loading/timeseries/\n"
   ]
  },
  {
   "cell_type": "code",
   "execution_count": null,
   "id": "b9bde254-7ff5-4986-84ea-7feb89327bd5",
   "metadata": {},
   "outputs": [],
   "source": []
  }
 ],
 "metadata": {
  "kernelspec": {
   "display_name": "Python 3 (ipykernel)",
   "language": "python",
   "name": "python3"
  },
  "language_info": {
   "codemirror_mode": {
    "name": "ipython",
    "version": 3
   },
   "file_extension": ".py",
   "mimetype": "text/x-python",
   "name": "python",
   "nbconvert_exporter": "python",
   "pygments_lexer": "ipython3",
   "version": "3.10.9"
  }
 },
 "nbformat": 4,
 "nbformat_minor": 5
}
