{
 "cells": [
  {
   "cell_type": "code",
   "execution_count": 59,
   "id": "73ca14cc-3367-446a-893f-5443287db597",
   "metadata": {},
   "outputs": [],
   "source": [
    "import pandas as pd\n",
    "import os\n",
    "from skimage.transform import resize\n",
    "from skimage.io import imread\n",
    "import numpy as np\n",
    "import matplotlib.pyplot as plt\n",
    "\n",
    "from sklearn import svm\n",
    "from sklearn.model_selection import GridSearchCV\n",
    "from sklearn.model_selection import train_test_split\n",
    "from sklearn.metrics import accuracy_score\n",
    "\n",
    "import pickle"
   ]
  },
  {
   "cell_type": "code",
   "execution_count": 53,
   "id": "dc6095a6-59ac-45c4-874b-942d2ad9cfaf",
   "metadata": {},
   "outputs": [
    {
     "name": "stdout",
     "output_type": "stream",
     "text": [
      "loading... category : lumos\n",
      "loaded category:lumos successfully\n",
      "loading... category : revelio\n",
      "loaded category:revelio successfully\n",
      "loading... category : leviosa\n",
      "loaded category:leviosa successfully\n"
     ]
    }
   ],
   "source": [
    "Categories=['lumos','revelio','leviosa']\n",
    "flat_data_arr=[] #input array\n",
    "target_arr=[] #output array\n",
    "datadir='./dataset_labeled/' \n",
    "#path which contains all the categories of images\n",
    "for i in Categories:\n",
    "    \n",
    "    print(f'loading... category : {i}')\n",
    "    path=os.path.join(datadir,i)\n",
    "    for img in os.listdir(path):\n",
    "        img_array=imread(os.path.join(path,img))\n",
    "        #img_resized=resize(img_array,(150,150,3))\n",
    "        flat_data_arr.append(img_array.flatten())\n",
    "        target_arr.append(Categories.index(i))\n",
    "    print(f'loaded category:{i} successfully')\n",
    "flat_data=np.array(flat_data_arr)\n",
    "target=np.array(target_arr)\n",
    "df=pd.DataFrame(flat_data) #dataframe\n",
    "df['Target']=target\n",
    "x=df.iloc[:,:-1] #input data \n",
    "y=df.iloc[:,-1] #output data\n",
    "\n"
   ]
  },
  {
   "cell_type": "code",
   "execution_count": 54,
   "id": "38f517a8-da54-42b1-b810-82ebc796a3de",
   "metadata": {},
   "outputs": [],
   "source": [
    "param_grid={'C':[0.1,1,10,100],'gamma':[0.0001,0.001,0.1,1],'kernel':['rbf','poly']}\n",
    "svc=svm.SVC(probability=True)\n",
    "model=GridSearchCV(svc,param_grid)"
   ]
  },
  {
   "cell_type": "code",
   "execution_count": 55,
   "id": "e0b9e307-8268-4c6f-9e09-1bb75b03dafe",
   "metadata": {},
   "outputs": [
    {
     "name": "stdout",
     "output_type": "stream",
     "text": [
      "Splitted Successfully\n",
      "The Model is trained well with the given images\n"
     ]
    }
   ],
   "source": [
    "x_train,x_test,y_train,y_test=train_test_split(x,y,test_size=0.20,random_state=77,stratify=y)\n",
    "print('Splitted Successfully')\n",
    "model.fit(x_train,y_train)\n",
    "print('The Model is trained well with the given images')\n",
    "# model.best_params_ contains the best parameters obtained from GridSearchCV"
   ]
  },
  {
   "cell_type": "code",
   "execution_count": 56,
   "id": "4eb8f7a6-373a-44ad-a3c4-c7f68ea6ecf2",
   "metadata": {},
   "outputs": [
    {
     "name": "stdout",
     "output_type": "stream",
     "text": [
      "The predicted Data is :\n",
      "[0 2 1 2 1 1 0 0 0 2 2 1 1 2 0 1 0 0 2 2 2 1 0 1 2 1 1 1 2 1 2 0 0 1 1 1 2\n",
      " 1 0 1 1 2 0 2 1 0 0 0 2 2 1 1 2 0 2 2 0 2 2 1]\n",
      "The actual data is:\n",
      "[0 2 1 2 1 1 0 0 0 2 2 1 1 2 0 1 0 0 2 2 2 0 0 1 2 1 1 1 2 1 2 0 0 1 1 2 2\n",
      " 1 0 1 1 0 0 2 1 0 0 0 2 2 1 1 0 0 2 2 0 2 2 1]\n",
      "The model is 93.33333333333333% accurate\n"
     ]
    }
   ],
   "source": [
    "y_pred=model.predict(x_test)\n",
    "print(\"The predicted Data is :\")\n",
    "print(y_pred)\n",
    "print(\"The actual data is:\")\n",
    "print(np.array(y_test))\n",
    "print(f\"The model is {accuracy_score(y_pred,y_test)*100}% accurate\")"
   ]
  },
  {
   "cell_type": "code",
   "execution_count": 57,
   "id": "c41db9ab-53b8-4ace-9e64-00ef2231171b",
   "metadata": {},
   "outputs": [
    {
     "data": {
      "image/png": "[encoded data removed]",
      "text/plain": [
       "<Figure size 640x480 with 1 Axes>"
      ]
     },
     "metadata": {},
     "output_type": "display_data"
    }
   ],
   "source": [
    "\n",
    "testing_path = './test/'\n",
    "\n",
    "testImage = imread(os.path.join(testing_path,'lumos2.jpeg'))\n",
    "plt.imshow(testImage)\n",
    "plt.show()\n",
    "\n",
    "l=[testImage.flatten()]\n"
   ]
  },
  {
   "cell_type": "code",
   "execution_count": 58,
   "id": "4404781f-6f85-4637-90fe-3c3aa326d2fd",
   "metadata": {},
   "outputs": [
    {
     "name": "stdout",
     "output_type": "stream",
     "text": [
      "lumos = 97.68259309543332%\n",
      "revelio = 1.5928672448132082%\n",
      "leviosa = 0.724539659753487%\n",
      "The predicted image is : lumos\n"
     ]
    }
   ],
   "source": [
    "probability=model.predict_proba(l)\n",
    "\n",
    "\n",
    "for ind,val in enumerate(Categories):\n",
    "    print(f'{val} = {probability[0][ind]*100}%')\n",
    "print(\"The predicted image is : \"+Categories[model.predict(l)[0]])\n"
   ]
  },
  {
   "cell_type": "code",
   "execution_count": 60,
   "id": "e0033b18-5206-46ab-9b89-2196ab9f187f",
   "metadata": {},
   "outputs": [],
   "source": [
    "#Save and load model\n",
    "# save model\n",
    "pickle.dump(model, open(\"svm.pickle\", \"wb\"))\n",
    "\n",
    "# load model\n",
    "loaded_model = pickle.load(open(\"svm.pickle\", \"rb\"))"
   ]
  }
 ],
 "metadata": {
  "kernelspec": {
   "display_name": "Python 3 (ipykernel)",
   "language": "python",
   "name": "python3"
  },
  "language_info": {
   "codemirror_mode": {
    "name": "ipython",
    "version": 3
   },
   "file_extension": ".py",
   "mimetype": "text/x-python",
   "name": "python",
   "nbconvert_exporter": "python",
   "pygments_lexer": "ipython3",
   "version": "3.10.10"
  }
 },
 "nbformat": 4,
 "nbformat_minor": 5
}
